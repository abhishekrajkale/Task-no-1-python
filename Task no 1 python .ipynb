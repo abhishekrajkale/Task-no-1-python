{
 "cells": [
  {
   "cell_type": "code",
   "execution_count": 1,
   "id": "1657114f",
   "metadata": {},
   "outputs": [],
   "source": [
    "s =  \"this is my fisrt python programing class and i am learING python string and its function\""
   ]
  },
  {
   "cell_type": "code",
   "execution_count": 2,
   "id": "7c1477bd",
   "metadata": {},
   "outputs": [
    {
     "data": {
      "text/plain": [
       "'tssyityopgmglsnimeI tntna sutn'"
      ]
     },
     "execution_count": 2,
     "metadata": {},
     "output_type": "execute_result"
    }
   ],
   "source": [
    "s[0:300:3]"
   ]
  },
  {
   "cell_type": "code",
   "execution_count": 3,
   "id": "6af9dd68",
   "metadata": {},
   "outputs": [
    {
     "data": {
      "text/plain": [
       "'noitcnuf sti dna gnirts nohtyp GNIrael ma i dna ssalc gnimargorp nohtyp trsif ym si siht'"
      ]
     },
     "execution_count": 3,
     "metadata": {},
     "output_type": "execute_result"
    }
   ],
   "source": [
    "s[::-1]"
   ]
  },
  {
   "cell_type": "code",
   "execution_count": 4,
   "id": "dc77accf",
   "metadata": {},
   "outputs": [
    {
     "data": {
      "text/plain": [
       "'THIS IS MY FISRT PYTHON PROGRAMING CLASS AND I AM LEARING PYTHON STRING AND ITS FUNCTION'"
      ]
     },
     "execution_count": 4,
     "metadata": {},
     "output_type": "execute_result"
    }
   ],
   "source": [
    "s.upper()"
   ]
  },
  {
   "cell_type": "code",
   "execution_count": 5,
   "id": "b43ec73b",
   "metadata": {},
   "outputs": [
    {
     "data": {
      "text/plain": [
       "['this',\n",
       " 'is',\n",
       " 'my',\n",
       " 'fisrt',\n",
       " 'python',\n",
       " 'programing',\n",
       " 'class',\n",
       " 'and',\n",
       " 'i',\n",
       " 'am',\n",
       " 'learING',\n",
       " 'python',\n",
       " 'string',\n",
       " 'and',\n",
       " 'its',\n",
       " 'function']"
      ]
     },
     "execution_count": 5,
     "metadata": {},
     "output_type": "execute_result"
    }
   ],
   "source": [
    "s.split()"
   ]
  },
  {
   "cell_type": "code",
   "execution_count": 5,
   "id": "fd780898",
   "metadata": {},
   "outputs": [
    {
     "data": {
      "text/plain": [
       "'this is my fisrt python programing class and i am learing python string and its function'"
      ]
     },
     "execution_count": 5,
     "metadata": {},
     "output_type": "execute_result"
    }
   ],
   "source": [
    "s.lower()"
   ]
  },
  {
   "cell_type": "code",
   "execution_count": 6,
   "id": "7cc58dea",
   "metadata": {},
   "outputs": [
    {
     "data": {
      "text/plain": [
       "'This is my fisrt python programing class and i am learing python string and its function'"
      ]
     },
     "execution_count": 6,
     "metadata": {},
     "output_type": "execute_result"
    }
   ],
   "source": [
    "s.capitalize()"
   ]
  },
  {
   "cell_type": "code",
   "execution_count": 10,
   "id": "169a5ae2",
   "metadata": {},
   "outputs": [
    {
     "data": {
      "text/plain": [
       "'this is my fisrt python programing class and i am learING python string and its function'"
      ]
     },
     "execution_count": 10,
     "metadata": {},
     "output_type": "execute_result"
    }
   ],
   "source": [
    "s"
   ]
  },
  {
   "cell_type": "code",
   "execution_count": 13,
   "id": "a003561f",
   "metadata": {},
   "outputs": [],
   "source": [
    "s1 =  \"abhishekfads\""
   ]
  },
  {
   "cell_type": "code",
   "execution_count": 14,
   "id": "0f545eb7",
   "metadata": {},
   "outputs": [
    {
     "data": {
      "text/plain": [
       "True"
      ]
     },
     "execution_count": 14,
     "metadata": {},
     "output_type": "execute_result"
    }
   ],
   "source": [
    "s1.isalnum()"
   ]
  },
  {
   "cell_type": "code",
   "execution_count": 15,
   "id": "90a975af",
   "metadata": {},
   "outputs": [
    {
     "data": {
      "text/plain": [
       "True"
      ]
     },
     "execution_count": 15,
     "metadata": {},
     "output_type": "execute_result"
    }
   ],
   "source": [
    "s1.isalpha()"
   ]
  },
  {
   "cell_type": "code",
   "execution_count": 16,
   "id": "5e523fb9",
   "metadata": {},
   "outputs": [],
   "source": [
    "s2 = \"abhi123\""
   ]
  },
  {
   "cell_type": "code",
   "execution_count": 17,
   "id": "09c5cca7",
   "metadata": {},
   "outputs": [
    {
     "data": {
      "text/plain": [
       "True"
      ]
     },
     "execution_count": 17,
     "metadata": {},
     "output_type": "execute_result"
    }
   ],
   "source": [
    "s2.isalnum()"
   ]
  },
  {
   "cell_type": "code",
   "execution_count": 18,
   "id": "e082289f",
   "metadata": {},
   "outputs": [
    {
     "data": {
      "text/plain": [
       "False"
      ]
     },
     "execution_count": 18,
     "metadata": {},
     "output_type": "execute_result"
    }
   ],
   "source": [
    "s2.isalpha()"
   ]
  },
  {
   "cell_type": "code",
   "execution_count": 19,
   "id": "8ca4e61f",
   "metadata": {},
   "outputs": [],
   "source": [
    "s = 'hhd\\tgeh\\thdd'"
   ]
  },
  {
   "cell_type": "code",
   "execution_count": 20,
   "id": "3222ea44",
   "metadata": {},
   "outputs": [
    {
     "data": {
      "text/plain": [
       "'hhd     geh     hdd'"
      ]
     },
     "execution_count": 20,
     "metadata": {},
     "output_type": "execute_result"
    }
   ],
   "source": [
    "s.expandtabs()"
   ]
  },
  {
   "cell_type": "code",
   "execution_count": 21,
   "id": "4a5ac63e",
   "metadata": {},
   "outputs": [],
   "source": [
    "s =\"     abhi    shek     \""
   ]
  },
  {
   "cell_type": "code",
   "execution_count": 22,
   "id": "4587011b",
   "metadata": {},
   "outputs": [
    {
     "data": {
      "text/plain": [
       "'abhi    shek'"
      ]
     },
     "execution_count": 22,
     "metadata": {},
     "output_type": "execute_result"
    }
   ],
   "source": [
    "s.strip()"
   ]
  },
  {
   "cell_type": "code",
   "execution_count": 24,
   "id": "f8a6b540",
   "metadata": {},
   "outputs": [
    {
     "data": {
      "text/plain": [
       "'abhi    shek     '"
      ]
     },
     "execution_count": 24,
     "metadata": {},
     "output_type": "execute_result"
    }
   ],
   "source": [
    "s.lstrip()"
   ]
  },
  {
   "cell_type": "code",
   "execution_count": 25,
   "id": "8e93b3ed",
   "metadata": {},
   "outputs": [
    {
     "data": {
      "text/plain": [
       "'     abhi    shek'"
      ]
     },
     "execution_count": 25,
     "metadata": {},
     "output_type": "execute_result"
    }
   ],
   "source": [
    "s.rstrip()"
   ]
  },
  {
   "cell_type": "code",
   "execution_count": 29,
   "id": "df1cc4af",
   "metadata": {},
   "outputs": [],
   "source": [
    "ad = \"hello sudhanshu\""
   ]
  },
  {
   "cell_type": "code",
   "execution_count": 30,
   "id": "047193a0",
   "metadata": {},
   "outputs": [
    {
     "data": {
      "text/plain": [
       "'hello abhishek'"
      ]
     },
     "execution_count": 30,
     "metadata": {},
     "output_type": "execute_result"
    }
   ],
   "source": [
    "ad.replace( \"sudhanshu\",\"abhishek\")"
   ]
  },
  {
   "cell_type": "code",
   "execution_count": 31,
   "id": "a24e95f4",
   "metadata": {},
   "outputs": [],
   "source": [
    "s = \"abhishek\""
   ]
  },
  {
   "cell_type": "code",
   "execution_count": 35,
   "id": "b8c98914",
   "metadata": {},
   "outputs": [
    {
     "data": {
      "text/plain": [
       "'################abhishek################'"
      ]
     },
     "execution_count": 35,
     "metadata": {},
     "output_type": "execute_result"
    }
   ],
   "source": [
    "s.center(40 ,'#')"
   ]
  },
  {
   "cell_type": "code",
   "execution_count": null,
   "id": "e9b5f6a3",
   "metadata": {},
   "outputs": [],
   "source": [
    "#qus 11 \n",
    "#ans interpretor convert one by one statment of the program at a time into code\n",
    "#compiler scan the whole program and transforms the whole program of it into code"
   ]
  },
  {
   "cell_type": "code",
   "execution_count": null,
   "id": "71b828cf",
   "metadata": {},
   "outputs": [],
   "source": [
    "#qus no.12\n",
    "#in the general it is belived that python is a interpreter language but in rality neigther it is a compiler language nor a interpreted language.\n",
    "#it work in two layer first the py file is compliled to an intermediate code of pyc then file is directly interpreted as for final output."
   ]
  },
  {
   "cell_type": "code",
   "execution_count": null,
   "id": "86962155",
   "metadata": {},
   "outputs": [],
   "source": [
    "#qus no 13 \n",
    "#ans usecase of python as fallow:\n",
    "#data visulization\n",
    "#data science\n",
    "#game devolping\n",
    "#Al appilication\n",
    "#software development. etc"
   ]
  },
  {
   "cell_type": "code",
   "execution_count": null,
   "id": "bd36b118",
   "metadata": {},
   "outputs": [],
   "source": []
  }
 ],
 "metadata": {
  "kernelspec": {
   "display_name": "Python 3 (ipykernel)",
   "language": "python",
   "name": "python3"
  },
  "language_info": {
   "codemirror_mode": {
    "name": "ipython",
    "version": 3
   },
   "file_extension": ".py",
   "mimetype": "text/x-python",
   "name": "python",
   "nbconvert_exporter": "python",
   "pygments_lexer": "ipython3",
   "version": "3.9.7"
  }
 },
 "nbformat": 4,
 "nbformat_minor": 5
}
